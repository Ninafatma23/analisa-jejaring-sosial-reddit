{
  "nbformat": 4,
  "nbformat_minor": 0,
  "metadata": {
    "colab": {
      "name": "Collecting Social Media Data (Reddit).ipynb",
      "provenance": [],
      "collapsed_sections": []
    },
    "kernelspec": {
      "name": "python3",
      "display_name": "Python 3"
    }
  },
  "cells": [
    {
      "cell_type": "code",
      "metadata": {
        "id": "HVzhJ-Dk-qNZ",
        "colab_type": "code",
        "outputId": "4689505a-7b83-4361-844b-8e6afea55823",
        "colab": {
          "base_uri": "https://localhost:8080/",
          "height": 336
        }
      },
      "source": [
        "pip install praw"
      ],
      "execution_count": 1,
      "outputs": [
        {
          "output_type": "stream",
          "text": [
            "Collecting praw\n",
            "\u001b[?25l  Downloading https://files.pythonhosted.org/packages/f6/df/b42c0a3b86a43a62a46e5b2f07930230ac7719624800a2052218993fb767/praw-6.4.0-py2.py3-none-any.whl (126kB)\n",
            "\u001b[K     |████████████████████████████████| 133kB 2.8MB/s \n",
            "\u001b[?25hCollecting update-checker>=0.16\n",
            "  Downloading https://files.pythonhosted.org/packages/17/c9/ab11855af164d03be0ff4fddd4c46a5bd44799a9ecc1770e01a669c21168/update_checker-0.16-py2.py3-none-any.whl\n",
            "Collecting prawcore<2.0,>=1.0.1\n",
            "  Downloading https://files.pythonhosted.org/packages/76/b5/ce6282dea45cba6f08a30e25d18e0f3d33277e2c9fcbda75644b8dc0089b/prawcore-1.0.1-py2.py3-none-any.whl\n",
            "Collecting websocket-client>=0.54.0\n",
            "\u001b[?25l  Downloading https://files.pythonhosted.org/packages/29/19/44753eab1fdb50770ac69605527e8859468f3c0fd7dc5a76dd9c4dbd7906/websocket_client-0.56.0-py2.py3-none-any.whl (200kB)\n",
            "\u001b[K     |████████████████████████████████| 204kB 41.8MB/s \n",
            "\u001b[?25hRequirement already satisfied: requests>=2.3.0 in /usr/local/lib/python3.6/dist-packages (from update-checker>=0.16->praw) (2.21.0)\n",
            "Requirement already satisfied: six in /usr/local/lib/python3.6/dist-packages (from websocket-client>=0.54.0->praw) (1.12.0)\n",
            "Requirement already satisfied: certifi>=2017.4.17 in /usr/local/lib/python3.6/dist-packages (from requests>=2.3.0->update-checker>=0.16->praw) (2019.9.11)\n",
            "Requirement already satisfied: urllib3<1.25,>=1.21.1 in /usr/local/lib/python3.6/dist-packages (from requests>=2.3.0->update-checker>=0.16->praw) (1.24.3)\n",
            "Requirement already satisfied: idna<2.9,>=2.5 in /usr/local/lib/python3.6/dist-packages (from requests>=2.3.0->update-checker>=0.16->praw) (2.8)\n",
            "Requirement already satisfied: chardet<3.1.0,>=3.0.2 in /usr/local/lib/python3.6/dist-packages (from requests>=2.3.0->update-checker>=0.16->praw) (3.0.4)\n",
            "Installing collected packages: update-checker, prawcore, websocket-client, praw\n",
            "Successfully installed praw-6.4.0 prawcore-1.0.1 update-checker-0.16 websocket-client-0.56.0\n"
          ],
          "name": "stdout"
        }
      ]
    },
    {
      "cell_type": "code",
      "metadata": {
        "id": "yGN-Vlk19GEL",
        "colab_type": "code",
        "colab": {}
      },
      "source": [
        "%matplotlib inline\n",
        "\n",
        "import json\n",
        "\n",
        "# For our first piece of code, we need to import the package \n",
        "# that connects to Reddit. Praw is a thin wrapper around reddit's \n",
        "# web APIs and works well\n",
        "\n",
        "import praw\n",
        "\n",
        "# Creating Reddit Application\n",
        "# Now we specify a \"unique\" user agent for our code\n",
        "# This is primarily for identification, I think, and some\n",
        "# user-agents of bad actors might be blocked\n",
        "redditApi = praw.Reddit(client_id='OdpBKZ1utVJw8Q',\n",
        "                        client_secret='KH5zzauulUBG45W-XYeAS5a2EdA',\n",
        "                        user_agent='crisis_informatics_v01')\n"
      ],
      "execution_count": 0,
      "outputs": []
    },
    {
      "cell_type": "code",
      "metadata": {
        "id": "Cq0FZYM9_NTy",
        "colab_type": "code",
        "outputId": "31a4605a-bbdf-443f-f1c8-f6dfb0ebe3b1",
        "colab": {
          "base_uri": "https://localhost:8080/",
          "height": 214
        }
      },
      "source": [
        "#Capturing Reddit Post\n",
        "subreddit = \"worldnews\"\n",
        "\n",
        "targetSub = redditApi.subreddit(subreddit)\n",
        "\n",
        "submissions = targetSub.new(limit=10)\n",
        "for post in submissions:\n",
        "    print(post.title)\n"
      ],
      "execution_count": 3,
      "outputs": [
        {
          "output_type": "stream",
          "text": [
            "Palestinian youth dies after being shot by Israeli soldiers in West Bank\n",
            "Chinese Officials Tear Down Madonna Painting, Replace it With President Xi\n",
            "Corbyn: Terrorists should ‘not necessarily’ serve full sentence in prison\n",
            "China due to introduce face scans for mobile users\n",
            "Pagan police called to 'occult' outbreak of slaughtered animals and pentagrams\n",
            "'Masturbation photos' prompt Tunisia's #MeToo anger - Photos of a man allegedly masturbating in a car outside a high school in Tunisia have prompted an outpouring of stories by women about the sexual abuse and harassment they have experienced.\n",
            "Europe becomes cocaine exporter as countries overflow with drug - European countries have become so saturated with cocaine that the region has now become a hub for exporting the drug to markets such as Australia, Turkey and Russia, according to new data.\n",
            "Albania calls for international help to recover from quake -- Albania’s prime minister is calling on the international community for financial aid and expert assistance to help the country recover from a 6.4 magnitude earthquake that killed 51 persons and left thousands homeless.\n",
            "Global heating driving spread of mosquito-borne dengue fever - Rising temperatures across Asia and the Americas have contributed to multiple severe outbreaks of dengue fever globally over the past six months, making 2019 the worst year on record for the disease.\n",
            "At least 14 killed in Mexican shootout near U.S. border\n"
          ],
          "name": "stdout"
        }
      ]
    },
    {
      "cell_type": "code",
      "metadata": {
        "id": "mwmh2Ksj_XXc",
        "colab_type": "code",
        "outputId": "24b696ed-4ac4-4b74-83b1-b8063b22f9ea",
        "colab": {
          "base_uri": "https://localhost:8080/",
          "height": 125
        }
      },
      "source": [
        "#Capturing Reddit Post \"Category\"\n",
        "subreddit = \"worldnews\"\n",
        "\n",
        "targetSub = redditApi.subreddit(subreddit)\n",
        "\n",
        "submissions = targetSub.hot(limit=5)\n",
        "for post in submissions:\n",
        "    print(post.title)"
      ],
      "execution_count": 4,
      "outputs": [
        {
          "output_type": "stream",
          "text": [
            "Boris Johnson said UK's poorest communities are made-up of 'chavs,' 'burglars,' 'drug addicts,' and 'losers'\n",
            "One of Malta’s wealthiest men, Yorgen Fenech, was charged in a Valletta court on Saturday with complicity to murder in the car bomb killing of anti-corruption journalist Daphne Caruana Galizia in 2017\n",
            "Over 1,000 climate protesters storm German coal mines, breaking through police lines and blocking train tracks at 3 major mines. Ende Gelände (End of the Road) criticized German government's climate action plan, saying plan to phase out coal by 2038 did not go far enough to address current crisis.\n",
            "Hong Kong unrest sees young and old join forces in vow to continue democracy fight\n",
            "Thousands demand Netanyahu’s resignation at Tel Aviv protest\n"
          ],
          "name": "stdout"
        }
      ]
    },
    {
      "cell_type": "code",
      "metadata": {
        "id": "KjhZc2wB_hut",
        "colab_type": "code",
        "outputId": "671a016e-e883-4adc-9deb-d2750e655522",
        "colab": {
          "base_uri": "https://localhost:8080/",
          "height": 214
        }
      },
      "source": [
        "#Capturing Reddit Post \"Multiple\"\n",
        "subreddit = \"worldnews+news\"\n",
        "\n",
        "targetSub = redditApi.subreddit(subreddit)\n",
        "submissions = targetSub.new(limit=10)\n",
        "for post in submissions:\n",
        "    print(post.title, post.author)\n"
      ],
      "execution_count": 5,
      "outputs": [
        {
          "output_type": "stream",
          "text": [
            "Palestinian youth dies after being shot by Israeli soldiers in West Bank TheNewArab\n",
            "Chinese Officials Tear Down Madonna Painting, Replace it With President Xi vannybros\n",
            "Corbyn: Terrorists should ‘not necessarily’ serve full sentence in prison sponserus\n",
            "China due to introduce face scans for mobile users bcoin_jake\n",
            "Pagan police called to 'occult' outbreak of slaughtered animals and pentagrams Admiral_Asado\n",
            "'Masturbation photos' prompt Tunisia's #MeToo anger - Photos of a man allegedly masturbating in a car outside a high school in Tunisia have prompted an outpouring of stories by women about the sexual abuse and harassment they have experienced. ManiaforBeatles\n",
            "Europe becomes cocaine exporter as countries overflow with drug - European countries have become so saturated with cocaine that the region has now become a hub for exporting the drug to markets such as Australia, Turkey and Russia, according to new data. ManiaforBeatles\n",
            "Albania calls for international help to recover from quake -- Albania’s prime minister is calling on the international community for financial aid and expert assistance to help the country recover from a 6.4 magnitude earthquake that killed 51 persons and left thousands homeless. CaptainWales69\n",
            "Global heating driving spread of mosquito-borne dengue fever - Rising temperatures across Asia and the Americas have contributed to multiple severe outbreaks of dengue fever globally over the past six months, making 2019 the worst year on record for the disease. ManiaforBeatles\n",
            "At least 14 killed in Mexican shootout near U.S. border mrcanard\n"
          ],
          "name": "stdout"
        }
      ]
    },
    {
      "cell_type": "code",
      "metadata": {
        "id": "IzGjkjAG_x4Q",
        "colab_type": "code",
        "outputId": "3b21b566-f22e-4791-cf4a-0020c51de162",
        "colab": {
          "base_uri": "https://localhost:8080/",
          "height": 425
        }
      },
      "source": [
        "#Accessing Reddit Comment\n",
        "subreddit = \"worldnews\"\n",
        "\n",
        "breadthCommentCount = 5\n",
        "\n",
        "targetSub = redditApi.subreddit(subreddit)\n",
        "\n",
        "submissions = targetSub.hot(limit=1)\n",
        "\n",
        "for post in submissions:\n",
        "    print (post.title)\n",
        "    \n",
        "    post.comment_limit = breadthCommentCount\n",
        "    \n",
        "    # Get the top few comments\n",
        "    for comment in post.comments.list():\n",
        "        if isinstance(comment, praw.models.MoreComments):\n",
        "            continue\n",
        "        \n",
        "        print (\"---\", comment.name, \"---\")\n",
        "        print (\"\\t\", comment.body)\n",
        "        \n",
        "        for reply in comment.replies.list():\n",
        "            if isinstance(reply, praw.models.MoreComments):\n",
        "                continue\n",
        "            \n",
        "            print (\"\\t\", \"---\", reply.name, \"---\")\n",
        "            print (\"\\t\\t\", reply.body)"
      ],
      "execution_count": 6,
      "outputs": [
        {
          "output_type": "stream",
          "text": [
            "Boris Johnson said UK's poorest communities are made-up of 'chavs,' 'burglars,' 'drug addicts,' and 'losers'\n",
            "--- t1_f97ly3k ---\n",
            "\t As an American, this sounds very familiar.\n",
            "--- t1_f97l6mm ---\n",
            "\t  chav (plural chavs)\n",
            "\n",
            "(Britain, derogatory, offensive) A working-class youth, especially one associated with aggression, poor education, and a perceived \"common\" taste in clothing and lifestyle.\n",
            "\t --- t1_f97rvib ---\n",
            "\t\t Ahh, a bogan. Got it.\n",
            "\t --- t1_f983fp9 ---\n",
            "\t\t A skid, for us Canadians.\n",
            "\t --- t1_f97umdx ---\n",
            "\t\t bogan, hoodlum, gopnik, etc\n",
            "--- t1_f97rvib ---\n",
            "\t Ahh, a bogan. Got it.\n",
            "\t --- t1_f983fp9 ---\n",
            "\t\t A skid, for us Canadians.\n",
            "\t --- t1_f97umdx ---\n",
            "\t\t bogan, hoodlum, gopnik, etc\n",
            "--- t1_f983fp9 ---\n",
            "\t A skid, for us Canadians.\n",
            "--- t1_f97umdx ---\n",
            "\t bogan, hoodlum, gopnik, etc\n"
          ],
          "name": "stdout"
        }
      ]
    }
  ]
}